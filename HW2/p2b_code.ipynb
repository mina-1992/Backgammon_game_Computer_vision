{
 "cells": [
  {
   "cell_type": "code",
   "execution_count": 137,
   "metadata": {},
   "outputs": [
    {
     "data": {
      "text/plain": [
       "True"
      ]
     },
     "execution_count": 137,
     "metadata": {},
     "output_type": "execute_result"
    }
   ],
   "source": [
    "import cv2\n",
    "import numpy as np\n",
    "\n",
    "# Read the image\n",
    "img = cv2.imread('p2_image1.png')\n",
    "\n",
    "# Convert the image to HSV color space\n",
    "hsv = cv2.cvtColor(img, cv2.COLOR_BGR2HSV)\n",
    "\n",
    "# Define the color range for black in the HSV color space\n",
    "black_range = np.array([[0, 0, 0], [255, 255, 50]])\n",
    "\n",
    "# Define the color range for white in the HSV color space\n",
    "white_range = np.array([[0, 0, 200], [255, 30, 255]])\n",
    "\n",
    "# Threshold the image based on the color ranges\n",
    "black_mask = cv2.inRange(hsv, black_range[0], black_range[1])\n",
    "white_mask = cv2.inRange(hsv, white_range[0], white_range[1])\n",
    "\n",
    "# Apply morphological operations to the masks\n",
    "kernel = np.ones((5, 5), np.uint8)\n",
    "black_mask = cv2.morphologyEx(black_mask, cv2.MORPH_OPEN, kernel)\n",
    "black_mask = cv2.morphologyEx(black_mask, cv2.MORPH_CLOSE, kernel)\n",
    "white_mask = cv2.morphologyEx(white_mask, cv2.MORPH_OPEN, kernel)\n",
    "white_mask = cv2.morphologyEx(white_mask, cv2.MORPH_CLOSE, kernel)\n",
    "\n",
    "# Find contours in the black mask and draw circles around them\n",
    "contours_black, hierarchy = cv2.findContours(black_mask, cv2.RETR_EXTERNAL, cv2.CHAIN_APPROX_SIMPLE)\n",
    "centroids_black = []\n",
    "for cnt in contours_black:\n",
    "    (x, y), radius = cv2.minEnclosingCircle(cnt)\n",
    "    center = (int(x), int(y))\n",
    "    radius = int(radius)\n",
    "    if radius > 10 and radius < 14:\n",
    "        # Draw a circle around the black circle\n",
    "        #cv2.circle(img, center, radius, (0, 0, 255), 2)\n",
    "\n",
    "        # Save the centroid of the black circle\n",
    "        centroids_black.append(center)\n",
    "\n",
    "# Find contours in the white mask and draw circles around them\n",
    "contours_white, hierarchy = cv2.findContours(white_mask, cv2.RETR_EXTERNAL, cv2.CHAIN_APPROX_SIMPLE)\n",
    "centroids_white = []\n",
    "radii_white = []\n",
    "for cnt in contours_white:\n",
    "    (x, y), radius = cv2.minEnclosingCircle(cnt)\n",
    "    center = (int(x), int(y))\n",
    "    radius = int(radius)\n",
    "    if radius > 60 and radius < 100:\n",
    "        # Draw a circle around the white circle\n",
    "        #cv2.circle(img, center, radius, (0, 255, 0), 2)\n",
    "\n",
    "        # Save the centroid and radius of the white circle\n",
    "        centroids_white.append(center)\n",
    "        radii_white.append(radius)\n",
    "\n",
    "# Count the number of black circles within a certain distance of each white circle\n",
    "for i in range(len(centroids_white)):\n",
    "    num_black_circles = 0\n",
    "    for j in range(len(centroids_black)):\n",
    "        dist = np.sqrt((centroids_white[i][0]-centroids_black[j][0])**2 + (centroids_white[i][1]-centroids_black[j][1])**2)\n",
    "        if dist <= radii_white[i]/2:\n",
    "            num_black_circles += 1\n",
    "\n",
    "    # Write the sum of black circles above each dice\n",
    "    font = cv2.FONT_HERSHEY_SIMPLEX\n",
    "    cv2.putText(img, str(num_black_circles), (centroids_white[i][0], centroids_white[i][1]-int(radii_white[i])-20), font, 1, (255, 0, 0), 2, cv2.LINE_AA)\n",
    "\n",
    "\n",
    "cv2.imwrite('opencv_output_image1.png', img)\n"
   ]
  },
  {
   "cell_type": "code",
   "execution_count": 139,
   "metadata": {},
   "outputs": [
    {
     "data": {
      "text/plain": [
       "True"
      ]
     },
     "execution_count": 139,
     "metadata": {},
     "output_type": "execute_result"
    }
   ],
   "source": [
    "import cv2\n",
    "import numpy as np\n",
    "\n",
    "# Read the image\n",
    "img = cv2.imread('p3_image3.png')\n",
    "\n",
    "# Convert the image to HSV color space\n",
    "hsv = cv2.cvtColor(img, cv2.COLOR_BGR2HSV)\n",
    "\n",
    "# Define the color range for black in the HSV color space\n",
    "black_range = np.array([[0, 0, 0], [255, 255, 50]])\n",
    "\n",
    "# Define the color range for white in the HSV color space\n",
    "white_range = np.array([[0, 0, 200], [255, 30, 255]])\n",
    "\n",
    "# Threshold the image based on the color ranges\n",
    "black_mask = cv2.inRange(hsv, black_range[0], black_range[1])\n",
    "white_mask = cv2.inRange(hsv, white_range[0], white_range[1])\n",
    "\n",
    "# Apply morphological operations to the masks\n",
    "kernel = np.ones((5, 5), np.uint8)\n",
    "black_mask = cv2.morphologyEx(black_mask, cv2.MORPH_OPEN, kernel)\n",
    "black_mask = cv2.morphologyEx(black_mask, cv2.MORPH_CLOSE, kernel)\n",
    "white_mask = cv2.morphologyEx(white_mask, cv2.MORPH_OPEN, kernel)\n",
    "white_mask = cv2.morphologyEx(white_mask, cv2.MORPH_CLOSE, kernel)\n",
    "\n",
    "# Find contours in the black mask and draw circles around them\n",
    "contours_black, hierarchy = cv2.findContours(black_mask, cv2.RETR_EXTERNAL, cv2.CHAIN_APPROX_SIMPLE)\n",
    "centroids_black = []\n",
    "for cnt in contours_black:\n",
    "    (x, y), radius = cv2.minEnclosingCircle(cnt)\n",
    "    center = (int(x), int(y))\n",
    "    radius = int(radius)\n",
    "    if radius > 10 and radius < 14:\n",
    "        # Draw a circle around the black circle\n",
    "        #cv2.circle(img, center, radius, (0, 0, 255), 2)\n",
    "\n",
    "        # Save the centroid of the black circle\n",
    "        centroids_black.append(center)\n",
    "\n",
    "# Find contours in the white mask and draw circles around them\n",
    "contours_white, hierarchy = cv2.findContours(white_mask, cv2.RETR_EXTERNAL, cv2.CHAIN_APPROX_SIMPLE)\n",
    "centroids_white = []\n",
    "radii_white = []\n",
    "for cnt in contours_white:\n",
    "    (x, y), radius = cv2.minEnclosingCircle(cnt)\n",
    "    center = (int(x), int(y))\n",
    "    radius = int(radius)\n",
    "    if radius > 60 and radius < 100:\n",
    "        # Draw a circle around the white circle\n",
    "        #cv2.circle(img, center, radius, (0, 255, 0), 2)\n",
    "\n",
    "        # Save the centroid and radius of the white circle\n",
    "        centroids_white.append(center)\n",
    "        radii_white.append(radius)\n",
    "\n",
    "# Count the number of black circles within a certain distance of each white circle\n",
    "for i in range(len(centroids_white)):\n",
    "    num_black_circles = 0\n",
    "    for j in range(len(centroids_black)):\n",
    "        dist = np.sqrt((centroids_white[i][0]-centroids_black[j][0])**2 + (centroids_white[i][1]-centroids_black[j][1])**2)\n",
    "        if dist <= radii_white[i]/2:\n",
    "            num_black_circles += 1\n",
    "\n",
    "    # Write the sum of black circles above each dice\n",
    "    font = cv2.FONT_HERSHEY_SIMPLEX\n",
    "    cv2.putText(img, str(num_black_circles), (centroids_white[i][0], centroids_white[i][1]-int(radii_white[i])-20), font, 1, (255, 0, 0), 2, cv2.LINE_AA)\n",
    "\n",
    "\n",
    "cv2.imwrite('opencv_output_image3.png', img)\n"
   ]
  }
 ],
 "metadata": {
  "kernelspec": {
   "display_name": "Python 3 (ipykernel)",
   "language": "python",
   "name": "python3"
  },
  "language_info": {
   "codemirror_mode": {
    "name": "ipython",
    "version": 3
   },
   "file_extension": ".py",
   "mimetype": "text/x-python",
   "name": "python",
   "nbconvert_exporter": "python",
   "pygments_lexer": "ipython3",
   "version": "3.9.7"
  },
  "vscode": {
   "interpreter": {
    "hash": "7f86477d1b568463104a76625072e6f161a17e960db3da690aed6da659090901"
   }
  }
 },
 "nbformat": 4,
 "nbformat_minor": 2
}
