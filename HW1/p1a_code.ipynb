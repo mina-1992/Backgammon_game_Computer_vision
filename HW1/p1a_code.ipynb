{
 "cells": [
  {
   "cell_type": "code",
   "execution_count": 17,
   "metadata": {},
   "outputs": [
    {
     "data": {
      "text/plain": [
       "True"
      ]
     },
     "execution_count": 17,
     "metadata": {},
     "output_type": "execute_result"
    }
   ],
   "source": [
    "import cv2\n",
    "import numpy as np\n",
    "\n",
    "# Read the image\n",
    "img = cv2.imread('p1_image1.png')\n",
    "\n",
    "# Convert the image to HSV color space\n",
    "hsv = cv2.cvtColor(img, cv2.COLOR_BGR2HSV)\n",
    "\n",
    "# Define the color ranges for white and red pieces in the HSV color space\n",
    "white_range = np.array([[0, 0, 150], [255, 80, 255]])\n",
    "red_range = np.array([[0.095, 100, 100], [10, 255, 255], [178, 100, 100], [179, 255, 255]])\n",
    "\n",
    "# Threshold the image based on the color ranges\n",
    "white_mask = cv2.inRange(hsv, white_range[0], white_range[1])\n",
    "red_mask = cv2.inRange(hsv, red_range[0], red_range[1]) + cv2.inRange(hsv, red_range[2], red_range[3])\n",
    "\n",
    "# Apply morphological operations to the masks\n",
    "kernel = np.ones((5, 5), np.uint8)\n",
    "white_mask = cv2.morphologyEx(white_mask, cv2.MORPH_OPEN, kernel)\n",
    "white_mask = cv2.morphologyEx(white_mask, cv2.MORPH_CLOSE, kernel)\n",
    "red_mask = cv2.morphologyEx(red_mask, cv2.MORPH_OPEN, kernel)\n",
    "red_mask = cv2.morphologyEx(red_mask, cv2.MORPH_CLOSE, kernel)\n",
    "\n",
    "# Find contours in the masks and draw circles around them\n",
    "contours, hierarchy = cv2.findContours(white_mask, cv2.RETR_EXTERNAL, cv2.CHAIN_APPROX_SIMPLE)\n",
    "for cnt in contours:\n",
    "    (x, y), radius = cv2.minEnclosingCircle(cnt)\n",
    "    center = (int(x), int(y))\n",
    "    radius = int(radius)\n",
    "    if radius > 15 and radius < 50:\n",
    "        cv2.circle(img, center, radius, (255, 0, 0), 3)\n",
    "\n",
    "contours, hierarchy = cv2.findContours(red_mask, cv2.RETR_EXTERNAL, cv2.CHAIN_APPROX_SIMPLE)\n",
    "for cnt in contours:\n",
    "    (x, y), radius = cv2.minEnclosingCircle(cnt)\n",
    "    center = (int(x), int(y))\n",
    "    radius = int(radius)\n",
    "    if radius > 15 and radius < 50:\n",
    "        cv2.circle(img, center, radius, (255, 0, 0), 3)\n",
    "\n",
    "# Save the output image\n",
    "cv2.imwrite('output.png', img)\n",
    "\n"
   ]
  },
  {
   "cell_type": "code",
   "execution_count": 1,
   "metadata": {},
   "outputs": [
    {
     "data": {
      "text/plain": [
       "True"
      ]
     },
     "execution_count": 1,
     "metadata": {},
     "output_type": "execute_result"
    }
   ],
   "source": [
    "import cv2\n",
    "import numpy as np\n",
    "\n",
    "# Read the image\n",
    "img = cv2.imread('p1_image2.png')\n",
    "\n",
    "# Convert the image to HSV color space\n",
    "hsv = cv2.cvtColor(img, cv2.COLOR_BGR2HSV)\n",
    "\n",
    "# Define the color ranges for white and red pieces in the HSV color space\n",
    "white_range = np.array([[0, 0, 150], [255, 80, 255]])\n",
    "red_range = np.array([[0.095, 100, 100], [10, 255, 255], [178, 100, 100], [179, 255, 255]])\n",
    "\n",
    "# Threshold the image based on the color ranges\n",
    "white_mask = cv2.inRange(hsv, white_range[0], white_range[1])\n",
    "red_mask = cv2.inRange(hsv, red_range[0], red_range[1]) + cv2.inRange(hsv, red_range[2], red_range[3])\n",
    "\n",
    "# Apply morphological operations to the masks\n",
    "kernel = np.ones((5, 5), np.uint8)\n",
    "white_mask = cv2.morphologyEx(white_mask, cv2.MORPH_OPEN, kernel)\n",
    "white_mask = cv2.morphologyEx(white_mask, cv2.MORPH_CLOSE, kernel)\n",
    "red_mask = cv2.morphologyEx(red_mask, cv2.MORPH_OPEN, kernel)\n",
    "red_mask = cv2.morphologyEx(red_mask, cv2.MORPH_CLOSE, kernel)\n",
    "\n",
    "# Find contours in the masks and draw circles around them\n",
    "contours, hierarchy = cv2.findContours(white_mask, cv2.RETR_EXTERNAL, cv2.CHAIN_APPROX_SIMPLE)\n",
    "for cnt in contours:\n",
    "    (x, y), radius = cv2.minEnclosingCircle(cnt)\n",
    "    center = (int(x), int(y))\n",
    "    radius = int(radius)\n",
    "    if radius > 15 and radius < 50:\n",
    "        cv2.circle(img, center, radius, (255, 0, 0), 3)\n",
    "\n",
    "contours, hierarchy = cv2.findContours(red_mask, cv2.RETR_EXTERNAL, cv2.CHAIN_APPROX_SIMPLE)\n",
    "for cnt in contours:\n",
    "    (x, y), radius = cv2.minEnclosingCircle(cnt)\n",
    "    center = (int(x), int(y))\n",
    "    radius = int(radius)\n",
    "    if radius > 15 and radius < 50:\n",
    "        cv2.circle(img, center, radius, (255, 0, 0), 3)\n",
    "\n",
    "# Save the output image\n",
    "cv2.imwrite('output2.png', img)\n",
    "\n"
   ]
  },
  {
   "cell_type": "code",
   "execution_count": 63,
   "metadata": {},
   "outputs": [
    {
     "data": {
      "text/plain": [
       "True"
      ]
     },
     "execution_count": 63,
     "metadata": {},
     "output_type": "execute_result"
    }
   ],
   "source": [
    "import cv2\n",
    "import numpy as np\n",
    "\n",
    "# Read the image\n",
    "img = cv2.imread('p1_image3.png')\n",
    "\n",
    "# Convert the image to HSV color space\n",
    "hsv = cv2.cvtColor(img, cv2.COLOR_BGR2HSV)\n",
    "\n",
    "# Define the color ranges for white and red pieces in the HSV color space\n",
    "white_range = np.array([[0, 0, 155], [255, 255, 255]])\n",
    "red_range = np.array([[0.095, 100, 100], [10, 255, 255], [178, 100, 100], [179, 255, 255]])\n",
    "\n",
    "# Threshold the image based on the color ranges\n",
    "white_mask = cv2.inRange(hsv, white_range[0], white_range[1])\n",
    "red_mask = cv2.inRange(hsv, red_range[0], red_range[1]) + cv2.inRange(hsv, red_range[2], red_range[3])\n",
    "\n",
    "# Apply morphological operations to the masks\n",
    "kernel = np.ones((5, 5), np.uint8)\n",
    "white_mask = cv2.morphologyEx(white_mask, cv2.MORPH_OPEN, kernel)\n",
    "white_mask = cv2.morphologyEx(white_mask, cv2.MORPH_CLOSE, kernel)\n",
    "red_mask = cv2.morphologyEx(red_mask, cv2.MORPH_OPEN, kernel)\n",
    "red_mask = cv2.morphologyEx(red_mask, cv2.MORPH_CLOSE, kernel)\n",
    "\n",
    "# Find contours in the masks and draw circles around them\n",
    "contours, hierarchy = cv2.findContours(white_mask, cv2.RETR_EXTERNAL, cv2.CHAIN_APPROX_SIMPLE)\n",
    "for cnt in contours:\n",
    "    (x, y), radius = cv2.minEnclosingCircle(cnt)\n",
    "    center = (int(x), int(y))\n",
    "    radius = int(radius)\n",
    "    if radius > 15 and radius < 50:\n",
    "        cv2.circle(img, center, radius, (255, 0, 0), 4)\n",
    "\n",
    "contours, hierarchy = cv2.findContours(red_mask, cv2.RETR_EXTERNAL, cv2.CHAIN_APPROX_SIMPLE)\n",
    "for cnt in contours:\n",
    "    (x, y), radius = cv2.minEnclosingCircle(cnt)\n",
    "    center = (int(x), int(y))\n",
    "    radius = int(radius)\n",
    "    if radius > 15 and radius < 50:\n",
    "        cv2.circle(img, center, radius, (255, 0, 0), 4)\n",
    "\n",
    "# Save the output image\n",
    "cv2.imwrite('output3.png', img)\n",
    "\n"
   ]
  }
 ],
 "metadata": {
  "kernelspec": {
   "display_name": "Python 3 (ipykernel)",
   "language": "python",
   "name": "python3"
  },
  "language_info": {
   "codemirror_mode": {
    "name": "ipython",
    "version": 3
   },
   "file_extension": ".py",
   "mimetype": "text/x-python",
   "name": "python",
   "nbconvert_exporter": "python",
   "pygments_lexer": "ipython3",
   "version": "3.9.7"
  },
  "vscode": {
   "interpreter": {
    "hash": "7f86477d1b568463104a76625072e6f161a17e960db3da690aed6da659090901"
   }
  }
 },
 "nbformat": 4,
 "nbformat_minor": 2
}
